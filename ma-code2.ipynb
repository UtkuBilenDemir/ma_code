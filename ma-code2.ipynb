{
 "cells": [
  {
   "cell_type": "code",
   "execution_count": 1,
   "id": "c1233362",
   "metadata": {},
   "outputs": [
    {
     "name": "stdout",
     "output_type": "stream",
     "text": [
      "How to read cosine measures: cosine similarity ranges from −1 to 1, where 1.0 means two\n",
      "vectors point in the same direction (very strong association), 0.0 means no directional\n",
      "association, and −1.0 means opposite directions. Some tools report cosine distance = 1 −\n",
      "cosine similarity; so a small distance (e.g., 0.14) implies a large similarity (0.86). As a\n",
      "rough guide, similarities ≥ 0.70 are often read as high, 0.40–0.69 as moderate, and ≤ 0.39\n",
      "as low, though thresholds vary by model.\n",
      "\n"
     ]
    }
   ],
   "source": [
    "# --- SETUP: load word vectors and define helpers ---\n",
    "import gensim.downloader as api\n",
    "from scipy.spatial import distance\n",
    "import numpy as np\n",
    "from textwrap import fill\n",
    "\n",
    "# Load a small, fast model for demos (50d)\n",
    "model = api.load(\"glove-wiki-gigaword-50\")\n",
    "\n",
    "\n",
    "def cos_sim(a, b):\n",
    "    return 1 - distance.cosine(a, b)\n",
    "\n",
    "\n",
    "def cos_dist(a, b):\n",
    "    return distance.cosine(a, b)\n",
    "\n",
    "\n",
    "def explain(text, width=92):\n",
    "    print(fill(text, width=width))\n",
    "    print()\n",
    "\n",
    "\n",
    "explain(\n",
    "    \"How to read cosine measures: cosine similarity ranges from −1 to 1, where 1.0 means two vectors \"\n",
    "    \"point in the same direction (very strong association), 0.0 means no directional association, and \"\n",
    "    \"−1.0 means opposite directions. Some tools report cosine distance = 1 − cosine similarity; \"\n",
    "    \"so a small distance (e.g., 0.14) implies a large similarity (0.86). As a rough guide, similarities \"\n",
    "    \"≥ 0.70 are often read as high, 0.40–0.69 as moderate, and ≤ 0.39 as low, though thresholds vary by model.\"\n",
    ")"
   ]
  },
  {
   "cell_type": "code",
   "execution_count": 2,
   "id": "93fa7ecd",
   "metadata": {},
   "outputs": [
    {
     "name": "stdout",
     "output_type": "stream",
     "text": [
      "Cosine distance between 'king -man + woman' and 'queen') = 0.139  ->  similarity = 0.861\n",
      "\n",
      "Explanation: Take the direction from man→king and add it to woman. If the geometry encodes\n",
      "relational regularities, the result should land near 'queen'. A cosine distance of 0.139\n",
      "(cosine similarity 0.861) indicates a strong association.\n",
      "\n"
     ]
    }
   ],
   "source": [
    "# --- Association network between related concepts ---\n",
    "probe = model[\"king\"] - model[\"man\"] + model[\"woman\"]\n",
    "sim = cos_sim(probe, model[\"queen\"])\n",
    "dist = cos_dist(probe, model[\"queen\"])\n",
    "\n",
    "print(\n",
    "    f\"Cosine distance between 'king -man + woman' and 'queen') = {dist:.3f}  ->  similarity = {sim:.3f}\\n\"\n",
    ")\n",
    "explain(\n",
    "    \"Explanation: Take the direction from man→king and add it to woman. \"\n",
    "    \"If the geometry encodes relational regularities, the result should land near 'queen'. \"\n",
    "    f\"A cosine distance of {dist:.3f} (cosine similarity {sim:.3f}) indicates a strong association.\"\n",
    ")"
   ]
  },
  {
   "cell_type": "code",
   "execution_count": 3,
   "id": "bff76c89",
   "metadata": {},
   "outputs": [
    {
     "name": "stdout",
     "output_type": "stream",
     "text": [
      "Projection on the gender axis (man − woman):\n",
      "      director  +0.177\n",
      "       officer  +0.138\n",
      "   policymaker  +0.108\n",
      "      engineer  +0.080\n",
      "    programmer  +0.066\n",
      "     scientist  +0.052\n",
      "          cook  +0.028\n",
      "        lawyer  -0.020\n",
      "  veterinarian  -0.166\n",
      "       teacher  -0.179\n",
      "   hairstylist  -0.204\n",
      "  receptionist  -0.331\n",
      "         nurse  -0.380\n",
      "\n",
      "A single 'gender direction' is defined as the vector from 'woman' to 'man'. Projecting words\n",
      "on this axis quantifies corpus-coded gender alignment: positive values lean male-coded,\n",
      "negative values female-coded.\n",
      "\n"
     ]
    }
   ],
   "source": [
    "# --- GENDER AXIS + OCCUPATION PROJECTIONS ---\n",
    "gender_axis = model[\"man\"] - model[\"woman\"]\n",
    "gender_axis = gender_axis / np.linalg.norm(gender_axis)\n",
    "\n",
    "occupations = [\n",
    "    \"engineer\",\n",
    "    \"scientist\",\n",
    "    \"lawyer\",\n",
    "    \"programmer\",\n",
    "    \"nurse\",\n",
    "    \"teacher\",\n",
    "    \"director\",\n",
    "    \"receptionist\",\n",
    "    \"officer\",\n",
    "    \"policymaker\",\n",
    "    \"cook\",\n",
    "    \"hairstylist\",\n",
    "    \"veterinarian\",\n",
    "]\n",
    "\n",
    "rows = []\n",
    "for w in occupations:\n",
    "    if w in model:\n",
    "        v = model[w]\n",
    "        proj = np.dot(v / np.linalg.norm(v), gender_axis)\n",
    "        rows.append((w, proj))\n",
    "\n",
    "rows_sorted = sorted(rows, key=lambda x: x[1], reverse=True)\n",
    "\n",
    "print(\"Projection on the gender axis (man − woman):\")\n",
    "for w, p in rows_sorted:\n",
    "    print(f\"  {w:>12s}  {p:+.3f}\")\n",
    "print()\n",
    "\n",
    "explain(\n",
    "    \"A single 'gender direction' is defined as the vector from 'woman' to 'man'. \"\n",
    "    \"Projecting words on this axis quantifies corpus-coded gender alignment: positive values \"\n",
    "    \"lean male-coded, negative values female-coded.\"\n",
    ")"
   ]
  },
  {
   "cell_type": "code",
   "execution_count": 4,
   "id": "8c8e6a4d",
   "metadata": {},
   "outputs": [
    {
     "name": "stdout",
     "output_type": "stream",
     "text": [
      "Mini-WEAT effect size (science↔male vs arts↔female): 1.61\n",
      "\n",
      "WEAT (Word Embedding Association Test): A positive WEAT effect size means 'science' terms\n",
      "align more with male words than with female, and 'arts' terms align more with female than\n",
      "with male. This quantifies culturally patterned associations encoded in the feature space.\n",
      "\n"
     ]
    }
   ],
   "source": [
    "# --- MINI WEAT (SCIENCE/ARTS × MALE/FEMALE) ---\n",
    "science = [\n",
    "    \"science\",\n",
    "    \"technology\",\n",
    "    \"physics\",\n",
    "    \"chemistry\",\n",
    "    \"einstein\",\n",
    "    \"nasa\",\n",
    "    \"experiment\",\n",
    "    \"astronomy\",\n",
    "]\n",
    "arts = [\n",
    "    \"poetry\",\n",
    "    \"art\",\n",
    "    \"dance\",\n",
    "    \"literature\",\n",
    "    \"novel\",\n",
    "    \"symphony\",\n",
    "    \"drama\",\n",
    "    \"sculpture\",\n",
    "]\n",
    "male = [\"man\", \"male\", \"boy\", \"brother\", \"he\", \"him\", \"his\", \"son\"]\n",
    "female = [\"woman\", \"female\", \"girl\", \"sister\", \"she\", \"her\", \"hers\", \"daughter\"]\n",
    "\n",
    "\n",
    "def set_assoc(X, A, B):\n",
    "    # average similarity to set A minus average similarity to set B\n",
    "    simsA = [\n",
    "        cos_sim(model[x], model[a]) for x in X for a in A if x in model and a in model\n",
    "    ]\n",
    "    simsB = [\n",
    "        cos_sim(model[x], model[b]) for x in X for b in B if x in model and b in model\n",
    "    ]\n",
    "    return np.mean(simsA) - np.mean(simsB)\n",
    "\n",
    "\n",
    "def weat_effect(X, Y, A, B):\n",
    "    sX = [set_assoc([x], A, B) for x in X if x in model]\n",
    "    sY = [set_assoc([y], A, B) for y in Y if y in model]\n",
    "    # pooled std\n",
    "    pooled = np.std(sX + sY, ddof=1)\n",
    "    return (np.mean(sX) - np.mean(sY)) / pooled if pooled > 0 else float(\"nan\")\n",
    "\n",
    "\n",
    "effect = weat_effect(science, arts, male, female)\n",
    "print(f\"Mini-WEAT effect size (science↔male vs arts↔female): {effect:.2f}\\n\")\n",
    "\n",
    "explain(\n",
    "    \"WEAT (Word Embedding Association Test): A positive WEAT effect size means 'science' terms align more with male words than with female, \"\n",
    "    \"and 'arts' terms align more with female than with male. This quantifies culturally patterned \"\n",
    "    \"associations encoded in the feature space.\"\n",
    ")"
   ]
  },
  {
   "cell_type": "code",
   "execution_count": 5,
   "id": "3d7c30cf",
   "metadata": {},
   "outputs": [
    {
     "name": "stdout",
     "output_type": "stream",
     "text": [
      "Nearest neighbours of 'bank' (base): ['securities', 'banking', 'investment', 'exchange', 'financial', 'credit', 'lender', 'capital']\n",
      "Nearest neighbours of 'bank' (tilted toward finance): ['credit', 'funds', 'fund', 'investment', 'loans', 'loan', 'financial', 'finance']\n",
      "Nearest neighbours of 'bank' (tilted toward river): ['flows', 'shore', 'river', 'along', 'from', 'central', 'stream', 'through']\n",
      "\n",
      "POLYSEMY DEMO: Small directional tilts move 'bank' between financial and geographical\n",
      "neighbourhoods. This shows that meaning is not a single essence but a recombination of\n",
      "partial traces, assembled by context — an example of dividual sense composition.\n",
      "\n"
     ]
    }
   ],
   "source": [
    "# ---- POLYSEMY DEMO: 'bank' as finance vs river ----\n",
    "targets = [\"bank\"]\n",
    "\n",
    "tilt_to_finance = (model[\"money\"] + model[\"loan\"] + model[\"finance\"]) / 3\n",
    "tilt_to_river   = (model[\"river\"] + model[\"stream\"] + model[\"water\"]) / 3\n",
    "\n",
    "def nearest(word_vec, k=8, banned=(\"bank\", \"banks\")):\n",
    "    sims = []\n",
    "    banned = {b.lower() for b in banned}\n",
    "    for w in list(model.index_to_key)[:50000]:  # cap for speed\n",
    "        if w.lower() in banned:\n",
    "            continue\n",
    "        sims.append((w, cos_sim(word_vec, model[w])))\n",
    "    sims.sort(key=lambda x: x[1], reverse=True)\n",
    "    return [w for w, s in sims[:k]]\n",
    "\n",
    "base = model[\"bank\"]\n",
    "fin  = base + 0.6 * (tilt_to_finance - base)\n",
    "geo  = base + 0.6 * (tilt_to_river - base)\n",
    "\n",
    "print(\"Nearest neighbours of 'bank' (base):\", nearest(base))\n",
    "print(\"Nearest neighbours of 'bank' (tilted toward finance):\", nearest(fin))\n",
    "print(\"Nearest neighbours of 'bank' (tilted toward river):\", nearest(geo))\n",
    "print()\n",
    "\n",
    "explain(\n",
    "    \"POLYSEMY DEMO: Small directional tilts move 'bank' between financial and geographical neighbourhoods.\\n\"\n",
    "    \"This shows that meaning is not a single essence but a recombination of partial traces,\\n\"\n",
    "    \"assembled by context — an example of dividual sense composition.\"\n",
    ")"
   ]
  },
  {
   "cell_type": "code",
   "execution_count": null,
   "id": "f85c3034",
   "metadata": {},
   "outputs": [
    {
     "ename": "",
     "evalue": "",
     "output_type": "error",
     "traceback": [
      "\u001b[1;31mRunning cells with 'ma-code.env (Python 3.13.1)' requires the ipykernel package.\n",
      "\u001b[1;31mInstall 'ipykernel' into the Python environment. \n",
      "\u001b[1;31mCommand: 'conda install -p /Users/ubd/Library/Mobile Documents/iCloud~md~obsidian/Documents/rhizome/06_projects/UNI/POWI/MA/Code/ma-code.env ipykernel --update-deps --force-reinstall'"
     ]
    }
   ],
   "source": [
    "model[\"bank\"]"
   ]
  },
  {
   "cell_type": "code",
   "execution_count": null,
   "id": "3a9780c2",
   "metadata": {},
   "outputs": [],
   "source": []
  }
 ],
 "metadata": {
  "kernelspec": {
   "display_name": "Python 3",
   "language": "python",
   "name": "python3"
  },
  "language_info": {
   "codemirror_mode": {
    "name": "ipython",
    "version": 3
   },
   "file_extension": ".py",
   "mimetype": "text/x-python",
   "name": "python",
   "nbconvert_exporter": "python",
   "pygments_lexer": "ipython3",
   "version": "3.13.1"
  }
 },
 "nbformat": 4,
 "nbformat_minor": 5
}
